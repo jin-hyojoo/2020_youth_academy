{
 "cells": [
  {
   "cell_type": "markdown",
   "metadata": {
    "colab_type": "text",
    "id": "HtPwysdT8heT"
   },
   "source": [
    "# 배열 생성 루틴"
   ]
  },
  {
   "cell_type": "markdown",
   "metadata": {
    "colab_type": "text",
    "id": "KWDqmRos8heU"
   },
   "source": [
    "## Ones and zeros"
   ]
  },
  {
   "cell_type": "code",
   "execution_count": 5,
   "metadata": {
    "colab": {},
    "colab_type": "code",
    "id": "OUp3BBoy8heV"
   },
   "outputs": [],
   "source": [
    "import numpy as np"
   ]
  },
  {
   "cell_type": "markdown",
   "metadata": {
    "colab_type": "text",
    "id": "C7Kysj6y8heX"
   },
   "source": [
    "2*2 integers 다차원 배열을 초기화 하지 않은 상태로 생성하세요."
   ]
  },
  {
   "cell_type": "code",
   "execution_count": 30,
   "metadata": {
    "colab": {
     "base_uri": "https://localhost:8080/",
     "height": 52
    },
    "colab_type": "code",
    "executionInfo": {
     "elapsed": 643,
     "status": "ok",
     "timestamp": 1550038125413,
     "user": {
      "displayName": "kang sanghun",
      "photoUrl": "",
      "userId": "12450865979153508193"
     },
     "user_tz": -540
    },
    "id": "OtYG0tjj8heY",
    "outputId": "1b578592-795c-4c2d-f14c-90e274f89d3a"
   },
   "outputs": [
    {
     "data": {
      "text/plain": [
       "array([[1, 2],\n",
       "       [3, 4]], dtype=int64)"
      ]
     },
     "execution_count": 30,
     "metadata": {},
     "output_type": "execute_result"
    }
   ],
   "source": [
    "np.array([(1,2),(3,4)], np.int64)"
   ]
  },
  {
   "cell_type": "markdown",
   "metadata": {
    "colab_type": "text",
    "id": "bwsOgHgH8heb"
   },
   "source": [
    "X = np.array([1,2,3], [4,5,6], np.int32) 일 때,\n",
    "X와 동일한 shape를 가지는 다차원 배열을 초기화 하지 않은 상태로 생성하세요."
   ]
  },
  {
   "cell_type": "markdown",
   "metadata": {
    "colab_type": "text",
    "id": "imqaV0M88hee"
   },
   "source": [
    "크기가 3인 단위행렬을 생성하세요."
   ]
  },
  {
   "cell_type": "code",
   "execution_count": 31,
   "metadata": {
    "colab": {
     "base_uri": "https://localhost:8080/",
     "height": 70
    },
    "colab_type": "code",
    "executionInfo": {
     "elapsed": 557,
     "status": "ok",
     "timestamp": 1550038224805,
     "user": {
      "displayName": "kang sanghun",
      "photoUrl": "",
      "userId": "12450865979153508193"
     },
     "user_tz": -540
    },
    "id": "gyIcftFt8hee",
    "outputId": "1ccc8fd3-e53b-4b10-fc8a-45809435c916"
   },
   "outputs": [
    {
     "data": {
      "text/plain": [
       "array([[1, 2, 3],\n",
       "       [4, 5, 6]])"
      ]
     },
     "execution_count": 31,
     "metadata": {},
     "output_type": "execute_result"
    }
   ],
   "source": [
    "X=np.array(([1,2,3],[4,5,6]), np.int32)\n",
    "np.array(X,np.int32)"
   ]
  },
  {
   "cell_type": "raw",
   "metadata": {
    "colab_type": "text",
    "id": "VFRRrJ9D8hek"
   },
   "source": [
    "모든 원소가 1로 채워진 3*2 실수형 다차원 배열을 생성하세요."
   ]
  },
  {
   "cell_type": "code",
   "execution_count": 39,
   "metadata": {},
   "outputs": [
    {
     "data": {
      "text/plain": [
       "array([[1., 1.],\n",
       "       [1., 1.],\n",
       "       [1., 1.]])"
      ]
     },
     "execution_count": 39,
     "metadata": {},
     "output_type": "execute_result"
    }
   ],
   "source": [
    "np.ones((3,2), np.float)"
   ]
  },
  {
   "cell_type": "markdown",
   "metadata": {
    "colab_type": "text",
    "id": "GTVOFhzE8heo"
   },
   "source": [
    "x = np.arange(4, dtype=np.int64) 일 때,\n",
    "X와 동일한 shape를 가지고 모든 원소가 1인 다차원 배열을 생성하세요."
   ]
  },
  {
   "cell_type": "code",
   "execution_count": 40,
   "metadata": {},
   "outputs": [
    {
     "data": {
      "text/plain": [
       "array([1, 1, 1, 1], dtype=int64)"
      ]
     },
     "execution_count": 40,
     "metadata": {},
     "output_type": "execute_result"
    }
   ],
   "source": [
    "x = np.arange(4, dtype=np.int64) \n",
    "np.full_like(x,1)"
   ]
  },
  {
   "cell_type": "markdown",
   "metadata": {
    "colab_type": "text",
    "id": "Aae3hd178heu"
   },
   "source": [
    "모든 원소가 0으로 채워진 3*2 실수형 다차원 배열을 생성하세요."
   ]
  },
  {
   "cell_type": "code",
   "execution_count": 17,
   "metadata": {
    "colab": {
     "base_uri": "https://localhost:8080/",
     "height": 70
    },
    "colab_type": "code",
    "executionInfo": {
     "elapsed": 624,
     "status": "ok",
     "timestamp": 1550038360619,
     "user": {
      "displayName": "kang sanghun",
      "photoUrl": "",
      "userId": "12450865979153508193"
     },
     "user_tz": -540
    },
    "id": "OkRMwppD8hev",
    "outputId": "c7dc1f76-6a03-41f8-d02a-6e71b7f36305"
   },
   "outputs": [
    {
     "data": {
      "text/plain": [
       "array([[0., 0.],\n",
       "       [0., 0.],\n",
       "       [0., 0.]])"
      ]
     },
     "execution_count": 17,
     "metadata": {},
     "output_type": "execute_result"
    }
   ],
   "source": [
    "np.zeros((3,2), np.float)"
   ]
  },
  {
   "cell_type": "markdown",
   "metadata": {
    "colab_type": "text",
    "id": "bkr2PwSJ8hex"
   },
   "source": [
    "x = np.arange(4, dtype=np.int64) 일 때,\n",
    "\n",
    "x와 동일한 shape의 영행렬을 생성하세요."
   ]
  },
  {
   "cell_type": "code",
   "execution_count": 45,
   "metadata": {},
   "outputs": [
    {
     "data": {
      "text/plain": [
       "array([0, 0, 0, 0], dtype=int64)"
      ]
     },
     "execution_count": 45,
     "metadata": {},
     "output_type": "execute_result"
    }
   ],
   "source": [
    "x = np.arange(4, dtype=np.int64) \n",
    "np.full_like(x,0)"
   ]
  },
  {
   "cell_type": "markdown",
   "metadata": {
    "colab_type": "text",
    "id": "txKzANtn8he0"
   },
   "source": [
    "모든 원소가 6으로 채워진 2*5 uint형(부호없는 정수) 다차원 배열을 생성하세요."
   ]
  },
  {
   "cell_type": "code",
   "execution_count": 22,
   "metadata": {
    "colab": {
     "base_uri": "https://localhost:8080/",
     "height": 52
    },
    "colab_type": "code",
    "executionInfo": {
     "elapsed": 666,
     "status": "ok",
     "timestamp": 1550038529307,
     "user": {
      "displayName": "kang sanghun",
      "photoUrl": "",
      "userId": "12450865979153508193"
     },
     "user_tz": -540
    },
    "id": "RdWU5Wkt8he4",
    "outputId": "c5ad2224-2ef6-4e07-a34e-b1065cf54fa3"
   },
   "outputs": [
    {
     "data": {
      "text/plain": [
       "array([[6, 6, 6, 6, 6],\n",
       "       [6, 6, 6, 6, 6]], dtype=uint32)"
      ]
     },
     "execution_count": 22,
     "metadata": {},
     "output_type": "execute_result"
    }
   ],
   "source": [
    "np.full((2,5),6, np.uint)"
   ]
  },
  {
   "cell_type": "markdown",
   "metadata": {
    "colab_type": "text",
    "id": "l9duF8VU8he7"
   },
   "source": [
    "x = np.arange(4, dtype=np.int64)일 때,\n",
    "\n",
    "x와 동일한 shape이고 모든 원소가 6인 다차원 배열을 생성하세요."
   ]
  },
  {
   "cell_type": "code",
   "execution_count": 46,
   "metadata": {
    "colab": {},
    "colab_type": "code",
    "id": "yZ6VHeZr8he_",
    "outputId": "5b2b92d2-764c-40a8-9feb-43c8fde48034"
   },
   "outputs": [
    {
     "data": {
      "text/plain": [
       "array([6, 6, 6, 6], dtype=int64)"
      ]
     },
     "execution_count": 46,
     "metadata": {},
     "output_type": "execute_result"
    }
   ],
   "source": [
    "x=np.arange(4,dtype=np.int64)\n",
    "np.full_like(x,6)"
   ]
  },
  {
   "cell_type": "markdown",
   "metadata": {
    "colab_type": "text",
    "id": "xg4td96X8hfC"
   },
   "source": [
    "## From existing data"
   ]
  },
  {
   "cell_type": "markdown",
   "metadata": {
    "colab_type": "text",
    "id": "_MIGNaIL8hfC"
   },
   "source": [
    "[1, 2, 3] 배열을 생성하세요"
   ]
  },
  {
   "cell_type": "code",
   "execution_count": 16,
   "metadata": {
    "colab": {
     "base_uri": "https://localhost:8080/",
     "height": 34
    },
    "colab_type": "code",
    "executionInfo": {
     "elapsed": 607,
     "status": "ok",
     "timestamp": 1550038566625,
     "user": {
      "displayName": "kang sanghun",
      "photoUrl": "",
      "userId": "12450865979153508193"
     },
     "user_tz": -540
    },
    "id": "3oqvdI358hfD",
    "outputId": "8f96ea10-7fea-4f84-ee96-3745edfa9117"
   },
   "outputs": [
    {
     "data": {
      "text/plain": [
       "array([1, 2, 3])"
      ]
     },
     "execution_count": 16,
     "metadata": {},
     "output_type": "execute_result"
    }
   ],
   "source": [
    "np.array([1,2,3])"
   ]
  },
  {
   "cell_type": "markdown",
   "metadata": {
    "colab_type": "text",
    "id": "qmVtyAtU8hfF"
   },
   "source": [
    "x = [1, 2] 일 때(python list 상태)\n",
    "\n",
    "x를 배열로 변환하세요."
   ]
  },
  {
   "cell_type": "code",
   "execution_count": 47,
   "metadata": {
    "colab": {
     "base_uri": "https://localhost:8080/",
     "height": 34
    },
    "colab_type": "code",
    "executionInfo": {
     "elapsed": 657,
     "status": "ok",
     "timestamp": 1550038594946,
     "user": {
      "displayName": "kang sanghun",
      "photoUrl": "",
      "userId": "12450865979153508193"
     },
     "user_tz": -540
    },
    "id": "95XdVp7r8hfG",
    "outputId": "e8ec195f-070e-48a8-b8a0-bb3da0cf9c19"
   },
   "outputs": [
    {
     "data": {
      "text/plain": [
       "array([1, 2])"
      ]
     },
     "execution_count": 47,
     "metadata": {},
     "output_type": "execute_result"
    }
   ],
   "source": [
    "x = [1, 2] \n",
    "np.array(x)"
   ]
  },
  {
   "cell_type": "markdown",
   "metadata": {
    "colab_type": "text",
    "id": "OwM6cmNR8hfT"
   },
   "source": [
    "x = [1, 2] 일 때(python list 상태)\n",
    "\n",
    "x를 `float`형 배열로 변환하세요."
   ]
  },
  {
   "cell_type": "code",
   "execution_count": 48,
   "metadata": {
    "colab": {
     "base_uri": "https://localhost:8080/",
     "height": 34
    },
    "colab_type": "code",
    "executionInfo": {
     "elapsed": 632,
     "status": "ok",
     "timestamp": 1550038657083,
     "user": {
      "displayName": "kang sanghun",
      "photoUrl": "",
      "userId": "12450865979153508193"
     },
     "user_tz": -540
    },
    "id": "MEc-19yL8hfT",
    "outputId": "5cb2c3d3-8134-4370-b741-e6a8f3386af1"
   },
   "outputs": [
    {
     "data": {
      "text/plain": [
       "array([1., 2.])"
      ]
     },
     "execution_count": 48,
     "metadata": {},
     "output_type": "execute_result"
    }
   ],
   "source": [
    "x = [1, 2] \n",
    "np.array(x, float)"
   ]
  },
  {
   "cell_type": "markdown",
   "metadata": {
    "colab_type": "text",
    "id": "dZ7IVtFf8hfc"
   },
   "source": [
    "## Numerical ranges"
   ]
  },
  {
   "cell_type": "markdown",
   "metadata": {
    "colab_type": "text",
    "id": "DADUhFZj8hfd"
   },
   "source": [
    "2, 4, 6, 8, ..., 100 을 원소로 가지는 배열을 생성하세요."
   ]
  },
  {
   "cell_type": "code",
   "execution_count": 14,
   "metadata": {
    "colab": {
     "base_uri": "https://localhost:8080/",
     "height": 87
    },
    "colab_type": "code",
    "executionInfo": {
     "elapsed": 627,
     "status": "ok",
     "timestamp": 1550038765495,
     "user": {
      "displayName": "kang sanghun",
      "photoUrl": "",
      "userId": "12450865979153508193"
     },
     "user_tz": -540
    },
    "id": "mUouo2na8hfd",
    "outputId": "d5a55027-b5cd-4bd7-a9da-480e4828a1aa"
   },
   "outputs": [
    {
     "data": {
      "text/plain": [
       "array([ 2,  4,  6,  8, 10, 12, 14, 16, 18, 20, 22, 24, 26, 28, 30, 32, 34,\n",
       "       36, 38, 40, 42, 44, 46, 48, 50, 52, 54, 56, 58, 60, 62, 64, 66, 68,\n",
       "       70, 72, 74, 76, 78, 80, 82, 84, 86, 88, 90, 92, 94, 96, 98])"
      ]
     },
     "execution_count": 14,
     "metadata": {},
     "output_type": "execute_result"
    }
   ],
   "source": [
    "np.arange(2,100,2)"
   ]
  },
  {
   "cell_type": "markdown",
   "metadata": {
    "colab_type": "text",
    "id": "nz3GBp928hfg"
   },
   "source": [
    "3.0 에서 10.0 까지 50개의 원소가 균일하게 분포된 1차원 배열을 생성하세요."
   ]
  },
  {
   "cell_type": "code",
   "execution_count": 50,
   "metadata": {
    "colab": {
     "base_uri": "https://localhost:8080/",
     "height": 193
    },
    "colab_type": "code",
    "executionInfo": {
     "elapsed": 681,
     "status": "ok",
     "timestamp": 1550038867356,
     "user": {
      "displayName": "kang sanghun",
      "photoUrl": "",
      "userId": "12450865979153508193"
     },
     "user_tz": -540
    },
    "id": "nZiYr0UBg1ce",
    "outputId": "1f28cd98-bb39-40c0-d189-4d324648501e"
   },
   "outputs": [
    {
     "data": {
      "text/plain": [
       "array([ 3.        ,  3.14285714,  3.28571429,  3.42857143,  3.57142857,\n",
       "        3.71428571,  3.85714286,  4.        ,  4.14285714,  4.28571429,\n",
       "        4.42857143,  4.57142857,  4.71428571,  4.85714286,  5.        ,\n",
       "        5.14285714,  5.28571429,  5.42857143,  5.57142857,  5.71428571,\n",
       "        5.85714286,  6.        ,  6.14285714,  6.28571429,  6.42857143,\n",
       "        6.57142857,  6.71428571,  6.85714286,  7.        ,  7.14285714,\n",
       "        7.28571429,  7.42857143,  7.57142857,  7.71428571,  7.85714286,\n",
       "        8.        ,  8.14285714,  8.28571429,  8.42857143,  8.57142857,\n",
       "        8.71428571,  8.85714286,  9.        ,  9.14285714,  9.28571429,\n",
       "        9.42857143,  9.57142857,  9.71428571,  9.85714286, 10.        ])"
      ]
     },
     "execution_count": 50,
     "metadata": {},
     "output_type": "execute_result"
    }
   ],
   "source": [
    "np.linspace(3,10,50)"
   ]
  }
 ],
 "metadata": {
  "colab": {
   "collapsed_sections": [],
   "name": "1_배열생성.ipynb",
   "provenance": [
    {
     "file_id": "1J9Sbbjrjgt2z4yM_6WcOw_9Km9A-PE5D",
     "timestamp": 1550029301347
    }
   ],
   "version": "0.3.2"
  },
  "kernelspec": {
   "display_name": "Python 3",
   "language": "python",
   "name": "python3"
  },
  "language_info": {
   "codemirror_mode": {
    "name": "ipython",
    "version": 3
   },
   "file_extension": ".py",
   "mimetype": "text/x-python",
   "name": "python",
   "nbconvert_exporter": "python",
   "pygments_lexer": "ipython3",
   "version": "3.8.3"
  }
 },
 "nbformat": 4,
 "nbformat_minor": 1
}
